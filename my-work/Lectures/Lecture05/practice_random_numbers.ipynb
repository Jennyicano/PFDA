{
 "cells": [
  {
   "cell_type": "markdown",
   "metadata": {},
   "source": [
    "Practising random numbers"
   ]
  },
  {
   "cell_type": "code",
   "execution_count": 1,
   "metadata": {},
   "outputs": [],
   "source": [
    "import numpy as np\n",
    "import matplotlib.pyplot as plt\n"
   ]
  },
  {
   "cell_type": "code",
   "execution_count": 5,
   "metadata": {},
   "outputs": [
    {
     "name": "stdout",
     "output_type": "stream",
     "text": [
      "[[1 2 5]\n",
      " [1 5 4]\n",
      " [1 3 6]\n",
      " [5 6 6]\n",
      " [2 2 4]\n",
      " [3 5 6]\n",
      " [3 4 1]\n",
      " [1 2 6]\n",
      " [4 2 2]\n",
      " [5 4 4]]\n",
      "[[4 5]\n",
      " [3 3]\n",
      " [2 2]\n",
      " [3 5]\n",
      " [4 3]\n",
      " [3 4]\n",
      " [4 2]\n",
      " [3 3]\n",
      " [2 1]\n",
      " [6 2]]\n"
     ]
    }
   ],
   "source": [
    "attacker_dice = np.random.randint(1, 7, size= [10,3])\n",
    "defender_dice = np.random.randint(1, 7, size= [10,2])\n",
    "\n",
    "print(attacker_dice)\n",
    "print(defender_dice)"
   ]
  }
 ],
 "metadata": {
  "kernelspec": {
   "display_name": "base",
   "language": "python",
   "name": "python3"
  },
  "language_info": {
   "codemirror_mode": {
    "name": "ipython",
    "version": 3
   },
   "file_extension": ".py",
   "mimetype": "text/x-python",
   "name": "python",
   "nbconvert_exporter": "python",
   "pygments_lexer": "ipython3",
   "version": "3.11.5"
  }
 },
 "nbformat": 4,
 "nbformat_minor": 2
}
