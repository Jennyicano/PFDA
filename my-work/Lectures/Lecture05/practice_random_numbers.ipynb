{
 "cells": [
  {
   "cell_type": "markdown",
   "metadata": {},
   "source": [
    "Practising random numbers"
   ]
  },
  {
   "cell_type": "code",
   "execution_count": 32,
   "metadata": {},
   "outputs": [],
   "source": [
    "import numpy as np\n",
    "import matplotlib.pyplot as plt\n"
   ]
  },
  {
   "cell_type": "code",
   "execution_count": 33,
   "metadata": {},
   "outputs": [
    {
     "name": "stdout",
     "output_type": "stream",
     "text": [
      "[[2 5 2]\n",
      " [2 5 1]\n",
      " [4 6 3]\n",
      " [5 2 4]\n",
      " [3 2 4]\n",
      " [2 6 4]\n",
      " [2 3 3]\n",
      " [2 3 3]\n",
      " [2 6 4]\n",
      " [6 1 6]]\n",
      "[[1 4]\n",
      " [2 4]\n",
      " [4 3]\n",
      " [2 1]\n",
      " [6 3]\n",
      " [5 2]\n",
      " [5 5]\n",
      " [4 6]\n",
      " [5 3]\n",
      " [5 4]]\n"
     ]
    }
   ],
   "source": [
    "attacker_dice = np.random.randint(1, 7, size= [10,3])\n",
    "defender_dice = np.random.randint(1, 7, size= [10,2])\n",
    "\n",
    "print(attacker_dice)\n",
    "print(defender_dice)\n"
   ]
  },
  {
   "cell_type": "code",
   "execution_count": 48,
   "metadata": {},
   "outputs": [
    {
     "name": "stdout",
     "output_type": "stream",
     "text": [
      "[[3 5]\n",
      " [3 4]\n",
      " [4 4]\n",
      " [3 3]\n",
      " [4 4]\n",
      " [1 5]\n",
      " [2 3]\n",
      " [1 1]\n",
      " [1 4]\n",
      " [1 2]]\n"
     ]
    }
   ],
   "source": [
    "attacker_dice = np.sort(np.random.randint(1, 7, size= [10,3]), axis=1)[:, :-1]\n",
    "defender_dice = np.sort(defender_dice, axis=1)[:, ::-1]\n",
    "\n",
    "print(attacker_dice)"
   ]
  },
  {
   "cell_type": "code",
   "execution_count": 49,
   "metadata": {},
   "outputs": [
    {
     "name": "stdout",
     "output_type": "stream",
     "text": [
      "(2, 0)\n"
     ]
    }
   ],
   "source": [
    "def battle(attacker_dice, defender_dice):\n",
    "    attacker_losses = 0\n",
    "    defender_losses = 0\n",
    "    for i in range(2):\n",
    "        if attacker_dice[i] > defender_dice[i]:\n",
    "            defender_losses += 1\n",
    "        else:\n",
    "            attacker_losses += 1\n",
    "    return attacker_losses, defender_losses\n",
    "\n",
    "print(battle(attacker_dice[3], defender_dice[2]))"
   ]
  },
  {
   "cell_type": "code",
   "execution_count": null,
   "metadata": {},
   "outputs": [],
   "source": []
  }
 ],
 "metadata": {
  "kernelspec": {
   "display_name": "base",
   "language": "python",
   "name": "python3"
  },
  "language_info": {
   "codemirror_mode": {
    "name": "ipython",
    "version": 3
   },
   "file_extension": ".py",
   "mimetype": "text/x-python",
   "name": "python",
   "nbconvert_exporter": "python",
   "pygments_lexer": "ipython3",
   "version": "3.11.5"
  }
 },
 "nbformat": 4,
 "nbformat_minor": 2
}
