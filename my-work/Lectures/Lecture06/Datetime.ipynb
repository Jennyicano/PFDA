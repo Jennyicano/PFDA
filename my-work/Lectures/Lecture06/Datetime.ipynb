{
 "cells": [
  {
   "cell_type": "markdown",
   "metadata": {},
   "source": [
    "## Datetime\n",
    "\n",
    "This notebook contains my practise while following the lecture 06 about the use of datetime"
   ]
  },
  {
   "cell_type": "code",
   "execution_count": 421,
   "metadata": {},
   "outputs": [],
   "source": [
    "# First we need to import 'datetime'\n",
    "\n",
    "import datetime"
   ]
  },
  {
   "cell_type": "code",
   "execution_count": 422,
   "metadata": {},
   "outputs": [
    {
     "name": "stdout",
     "output_type": "stream",
     "text": [
      "['MAXYEAR', 'MINYEAR', 'UTC', '__all__', '__builtins__', '__cached__', '__doc__', '__file__', '__loader__', '__name__', '__package__', '__spec__', 'date', 'datetime', 'datetime_CAPI', 'sys', 'time', 'timedelta', 'timezone', 'tzinfo']\n"
     ]
    }
   ],
   "source": [
    "print(dir(datetime))"
   ]
  },
  {
   "cell_type": "markdown",
   "metadata": {},
   "source": [
    "### Times\n",
    "\n",
    "Times have attribute for hour, minute, second, and microsecond.\n",
    "\n",
    "datetime.time(hour=0, minute=0, second=0, microsecond=0, tzinfo=None, *, fold=0)"
   ]
  },
  {
   "cell_type": "code",
   "execution_count": 423,
   "metadata": {},
   "outputs": [
    {
     "name": "stdout",
     "output_type": "stream",
     "text": [
      "01:02:03\n"
     ]
    }
   ],
   "source": [
    "t=datetime.time(1, 2, 3)\n",
    "\n",
    "print(t)"
   ]
  },
  {
   "cell_type": "code",
   "execution_count": 424,
   "metadata": {},
   "outputs": [
    {
     "name": "stdout",
     "output_type": "stream",
     "text": [
      "hour  :      1\n",
      "minute:      2\n",
      "second:      3\n",
      "microsecond: 0\n",
      "tzinfo:      None\n"
     ]
    }
   ],
   "source": [
    "print (f'hour  :      {t.hour}')\n",
    "print (f'minute:      {t.minute}')\n",
    "print (f'second:      {t.second}')\n",
    "print (f'microsecond: {t.microsecond}')\n",
    "print (f'tzinfo:      {t.tzinfo}')"
   ]
  },
  {
   "cell_type": "code",
   "execution_count": 425,
   "metadata": {},
   "outputs": [
    {
     "name": "stdout",
     "output_type": "stream",
     "text": [
      "Earliest  : 00:00:00\n",
      "Latest    : 23:59:59.999999\n",
      "Resolution: 0:00:00.000001\n"
     ]
    }
   ],
   "source": [
    "# To get the valid range of times in a single day. The min and max class attributes reflect the valid range of times in a single day.\n",
    "print ('Earliest  :', datetime.time.min)\n",
    "print ('Latest    :', datetime.time.max)\n",
    "print ('Resolution:', datetime.time.resolution)"
   ]
  },
  {
   "cell_type": "code",
   "execution_count": 426,
   "metadata": {},
   "outputs": [
    {
     "name": "stdout",
     "output_type": "stream",
     "text": [
      "00:39:00.000005\n"
     ]
    }
   ],
   "source": [
    "# Create a time object with 5 microseconds and 39 minutes\n",
    "t = datetime.time(microsecond=5, minute=39)\n",
    "print(t)"
   ]
  },
  {
   "cell_type": "markdown",
   "metadata": {},
   "source": [
    "### Dates\n",
    "\n",
    "The date is represented in terms of yesr, month, and day. \n",
    "To create a date representing today’s date using the today() class method.\n",
    "\n",
    "datetime.date(year, month, day)"
   ]
  },
  {
   "cell_type": "code",
   "execution_count": 427,
   "metadata": {},
   "outputs": [
    {
     "name": "stdout",
     "output_type": "stream",
     "text": [
      "today: \n",
      "\t 2024-11-04\n",
      "ctime: \n",
      "\t Mon Nov  4 00:00:00 2024\n",
      "tuple: \n",
      "\t time.struct_time(tm_year=2024, tm_mon=11, tm_mday=4, tm_hour=0, tm_min=0, tm_sec=0, tm_wday=0, tm_yday=309, tm_isdst=-1)\n",
      "ordinal: \n",
      "\t 739194\n",
      "Year: \n",
      "\t 2024\n",
      "Mon: \n",
      "\t 11\n",
      "Day: \n",
      "\t 4\n"
     ]
    }
   ],
   "source": [
    "today = datetime.date.today()\n",
    "print (f'today: \\n\\t {today}')\n",
    "print (f'ctime: \\n\\t {today.ctime()}')\n",
    "print (f'tuple: \\n\\t {today.timetuple()}')\n",
    "print (f'ordinal: \\n\\t {today.toordinal()}')\n",
    "print (f'Year: \\n\\t {today.year}')\n",
    "print (f'Mon: \\n\\t {today.month}')\n",
    "print (f'Day: \\n\\t {today.day}')\n"
   ]
  },
  {
   "cell_type": "markdown",
   "metadata": {},
   "source": [
    "There are also class methods for creating instances from integers (using proleptic Gregorian ordinal values, which starts counting from Jan. 1 of the year 1) or POSIX timestamp values.\n",
    "\n",
    "The following example illustrates the different value types used by:\n",
    "\n",
    "fromordinal(): Return the date corresponding to the proleptic Gregorian ordinal, (number of days elapsed from the date 01/Jan/0001)\n",
    "fromtimestamp(): Return the local date corresponding to the timestamp.\n"
   ]
  },
  {
   "cell_type": "code",
   "execution_count": 428,
   "metadata": {},
   "outputs": [
    {
     "name": "stdout",
     "output_type": "stream",
     "text": [
      "o = 733114 and fromordinal(o) = 2008-03-13\n",
      "t = 1730760600.230742 and fromtimestamp(t) = 2024-11-04\n"
     ]
    }
   ],
   "source": [
    "import time\n",
    "\n",
    "o = 733114\n",
    "print (f'o = {o} and fromordinal(o) = {datetime.date.fromordinal(o)}')\n",
    "\n",
    "t = time.time()\n",
    "print (f't = {t} and fromtimestamp(t) = {datetime.date.fromtimestamp(t)}')\n"
   ]
  },
  {
   "cell_type": "code",
   "execution_count": 429,
   "metadata": {},
   "outputs": [
    {
     "name": "stdout",
     "output_type": "stream",
     "text": [
      "Earliest:   0001-01-01\n",
      "Latest:     9999-12-31\n",
      "Resolution: 1 day, 0:00:00\n"
     ]
    }
   ],
   "source": [
    "# To determinate the valid range of date values, we can use the min and max attributes.\n",
    "\n",
    "print (f'Earliest:   {datetime.date.min}')\n",
    "print (f'Latest:     {datetime.date.max}')\n",
    "print (f'Resolution: {datetime.date.resolution}')\n",
    "\n",
    "# The resolution for dates is whole days, so there is no time component."
   ]
  },
  {
   "cell_type": "code",
   "execution_count": 430,
   "metadata": {},
   "outputs": [
    {
     "name": "stdout",
     "output_type": "stream",
     "text": [
      "d1: 2022-07-05\n",
      "d2: 2023-07-05\n"
     ]
    }
   ],
   "source": [
    "# Another way to create new date instances uses the replace() method of an existing date. \n",
    "# For example, you can change the year, leaving the day and month alone.\n",
    "\n",
    "d1 = datetime.date(2022, 7, 5)\n",
    "print ('d1:', d1)\n",
    "\n",
    "d2 = d1.replace(year=2023)\n",
    "print ('d2:', d2)\n"
   ]
  },
  {
   "cell_type": "markdown",
   "metadata": {},
   "source": [
    "### Timedeltas\n",
    "\n",
    "The timedelta objects represent a duration. It can be used to calculate the difference between two dates or times.\n",
    "\n",
    "Datetime can perform basic arithmetic on date values via the timedelta class.\n",
    "\n",
    "    datetime.timedelta(days=0, seconds=0, microseconds=0, milliseconds=0, minutes=0, hours=0, weeks=0)"
   ]
  },
  {
   "cell_type": "code",
   "execution_count": 431,
   "metadata": {},
   "outputs": [
    {
     "name": "stdout",
     "output_type": "stream",
     "text": [
      "microseconds: 0:00:00.000001\n",
      "milliseconds: 0:00:00.001000\n",
      "seconds:      0:00:01\n",
      "minutes:      0:01:00\n",
      "hours:        1:00:00\n",
      "days:         1 day, 0:00:00\n",
      "weeks:        7 days, 0:00:00\n"
     ]
    }
   ],
   "source": [
    "print (f\"microseconds: {datetime.timedelta(microseconds=1)}\")\n",
    "print (f\"milliseconds: {datetime.timedelta(milliseconds=1)}\")\n",
    "print (f\"seconds:      {datetime.timedelta(seconds=1)}\")\n",
    "print (f\"minutes:      {datetime.timedelta(minutes=1)}\")\n",
    "print (f\"hours:        {datetime.timedelta(hours=1)}\")\n",
    "print (f\"days:         {datetime.timedelta(days=1)}\")\n",
    "print (f\"weeks:        {datetime.timedelta(weeks=1)}\")"
   ]
  },
  {
   "cell_type": "markdown",
   "metadata": {},
   "source": [
    "### Date Arithmetic"
   ]
  },
  {
   "cell_type": "code",
   "execution_count": 432,
   "metadata": {},
   "outputs": [
    {
     "name": "stdout",
     "output_type": "stream",
     "text": [
      "Today: 2024-11-04\n"
     ]
    }
   ],
   "source": [
    "# It represents the date of today\n",
    "\n",
    "today = datetime.date.today()\n",
    "print('Today:', today)"
   ]
  },
  {
   "cell_type": "code",
   "execution_count": 433,
   "metadata": {},
   "outputs": [
    {
     "name": "stdout",
     "output_type": "stream",
     "text": [
      "One timedelta day: 1 day, 0:00:00\n"
     ]
    }
   ],
   "source": [
    "one_timedelta_day = datetime.timedelta(days=1)\n",
    "print('One timedelta day:', one_timedelta_day)"
   ]
  },
  {
   "cell_type": "code",
   "execution_count": 434,
   "metadata": {},
   "outputs": [
    {
     "name": "stdout",
     "output_type": "stream",
     "text": [
      "Yesterday: 2024-11-03\n"
     ]
    }
   ],
   "source": [
    "# It represents the date of yesterday\n",
    "\n",
    "yesterday = today - one_timedelta_day\n",
    "print('Yesterday:', yesterday)"
   ]
  },
  {
   "cell_type": "code",
   "execution_count": 435,
   "metadata": {},
   "outputs": [
    {
     "name": "stdout",
     "output_type": "stream",
     "text": [
      "Tomorrow: 2024-11-05\n"
     ]
    }
   ],
   "source": [
    "# It represents the date of today tomorrow.\n",
    "\n",
    "tomorrow = today + one_timedelta_day\n",
    "print('Tomorrow:', tomorrow)"
   ]
  },
  {
   "cell_type": "code",
   "execution_count": 436,
   "metadata": {},
   "outputs": [
    {
     "name": "stdout",
     "output_type": "stream",
     "text": [
      "tomorrow - yesterday: 2 days, 0:00:00\n",
      "yesterday - tomorrow: -2 days, 0:00:00\n"
     ]
    }
   ],
   "source": [
    "print('tomorrow - yesterday:', tomorrow - yesterday)\n",
    "print('yesterday - tomorrow:', yesterday - tomorrow)"
   ]
  },
  {
   "cell_type": "code",
   "execution_count": 437,
   "metadata": {},
   "outputs": [
    {
     "name": "stdout",
     "output_type": "stream",
     "text": [
      "2024-11-04\n",
      "2024-12-09\n"
     ]
    }
   ],
   "source": [
    "# Breakout: create an arbitrary date object and add five weeks. Print the new date\n",
    "\n",
    "date = datetime.date.today()\n",
    "print(date)\n",
    "new_date = date + datetime.timedelta(weeks=5)\n",
    "print(new_date)"
   ]
  },
  {
   "cell_type": "markdown",
   "metadata": {},
   "source": [
    "### Comparing Values"
   ]
  },
  {
   "cell_type": "code",
   "execution_count": 438,
   "metadata": {},
   "outputs": [
    {
     "name": "stdout",
     "output_type": "stream",
     "text": [
      "Times:\n",
      "\tt1: 12:55:00\n",
      "\tt2: 13:05:00\n",
      "\tt1 < t2: True\n"
     ]
    }
   ],
   "source": [
    "# To compare the time\n",
    "\n",
    "print ('Times:')\n",
    "t1 = datetime.time(12, 55, 0)\n",
    "print ('\\tt1:', t1)\n",
    "t2 = datetime.time(13, 5, 0)\n",
    "print ('\\tt2:', t2)\n",
    "print ('\\tt1 < t2:', t1 < t2)"
   ]
  },
  {
   "cell_type": "code",
   "execution_count": 439,
   "metadata": {},
   "outputs": [
    {
     "name": "stdout",
     "output_type": "stream",
     "text": [
      "Dates:\n",
      "\td1: 2024-11-04\n",
      "\td2: 2024-11-05\n",
      "\td1 > d2: False\n"
     ]
    }
   ],
   "source": [
    "# To compare the dates\n",
    "\n",
    "print ('Dates:')\n",
    "d1 = datetime.date.today()\n",
    "print ('\\td1:', d1)\n",
    "d2 = datetime.date.today() + datetime.timedelta(days=1)\n",
    "print ('\\td2:', d2)\n",
    "print ('\\td1 > d2:', d1 > d2)"
   ]
  },
  {
   "cell_type": "markdown",
   "metadata": {},
   "source": [
    "### Combining Dates and Times:  datetime Class"
   ]
  },
  {
   "cell_type": "code",
   "execution_count": 440,
   "metadata": {},
   "outputs": [
    {
     "name": "stdout",
     "output_type": "stream",
     "text": [
      "Now:     2024-11-04 22:50:00.324666\n",
      "Today:   2024-11-04 22:50:00.324763\n",
      "UTC Now: 2024-11-04 22:50:00.324786\n"
     ]
    }
   ],
   "source": [
    "print(f'Now:     {datetime.datetime.now()}')\n",
    "print(f'Today:   {datetime.datetime.today()}')\n",
    "print(f'UTC Now: {datetime.datetime.utcnow()}')"
   ]
  },
  {
   "cell_type": "code",
   "execution_count": 441,
   "metadata": {},
   "outputs": [
    {
     "name": "stdout",
     "output_type": "stream",
     "text": [
      "year: 2024\n",
      "month: 11\n",
      "day: 4\n",
      "hour: 22\n",
      "minute: 50\n",
      "second: 0\n",
      "microsecond: 329260\n"
     ]
    }
   ],
   "source": [
    "d = datetime.datetime.now()\n",
    "for attr in [ 'year', 'month', 'day', 'hour', 'minute', 'second', 'microsecond']:\n",
    "    print(f\"{attr}: {getattr(d, attr)}\")"
   ]
  },
  {
   "cell_type": "code",
   "execution_count": 442,
   "metadata": {},
   "outputs": [
    {
     "name": "stdout",
     "output_type": "stream",
     "text": [
      "Current date & time =         2024-11-04 22:50:00.334451\n",
      "Date and time in ISO format = 2024-11-04T22:50:00.334451\n",
      "Current year =                2024\n",
      "Current month =               11\n",
      "Current date (day) =          4\n",
      "dd/mm/yyyy format =           4/11/2024\n",
      "Current hour =                22\n",
      "Current minute =              50\n",
      "Current second =              0\n",
      "hh:mm:ss format =             22:11:0\n"
     ]
    }
   ],
   "source": [
    "NOW = datetime.datetime.now()\n",
    " \n",
    "print(f\"Current date & time =         {NOW}\")\n",
    "print(f\"Date and time in ISO format = {NOW.isoformat()}\")\n",
    "print(f\"Current year =                {NOW.year}\")\n",
    "print(f\"Current month =               {NOW.month}\")\n",
    "print(f\"Current date (day) =          {NOW.day}\")\n",
    "print(f\"dd/mm/yyyy format =           {NOW.day}/{NOW.month}/{NOW.year}\")\n",
    "print(f\"Current hour =                {NOW.hour}\")\n",
    "print(f\"Current minute =              {NOW.minute}\")\n",
    "print(f\"Current second =              {NOW.second}\")\n",
    "print(f\"hh:mm:ss format =             {NOW.hour}:{NOW.month}:{NOW.second}\")"
   ]
  },
  {
   "cell_type": "code",
   "execution_count": 443,
   "metadata": {},
   "outputs": [
    {
     "name": "stdout",
     "output_type": "stream",
     "text": [
      "t : 01:02:03\n",
      "d : 2024-11-04\n",
      "dt: 2024-11-04 01:02:03\n"
     ]
    }
   ],
   "source": [
    "# combine() method to create a new datetime object from a date and a time.\n",
    "\n",
    "t = datetime.time(1, 2, 3)\n",
    "print ('t :', t)\n",
    "\n",
    "d = datetime.date.today()\n",
    "print ('d :', d)\n",
    "\n",
    "dt = datetime.datetime.combine(d, t)\n",
    "print ('dt:', dt)"
   ]
  },
  {
   "cell_type": "markdown",
   "metadata": {},
   "source": [
    "### Formating and Parsing\n",
    "\n",
    "The datetime object uses the format YYYY-MM-DDTHH:MM:SS.mmmmmm\n",
    "\n",
    "Other format that can be done using sstrftime() function. If the input data includes timestamp values parsable with time.strptime(), then datetime.strptime() is a convenient way to convert them to datetime instances."
   ]
  },
  {
   "cell_type": "markdown",
   "metadata": {},
   "source": [
    "#### Formatting "
   ]
  },
  {
   "cell_type": "code",
   "execution_count": 444,
   "metadata": {},
   "outputs": [
    {
     "name": "stdout",
     "output_type": "stream",
     "text": [
      "ISO: 2024-11-04 22:50:00.344981\n",
      "strftime: Mon 04 Nov 22:50:00 2024\n"
     ]
    }
   ],
   "source": [
    "# Weekday Month Day Hour:Minute:Second Year\n",
    "\n",
    "format = \"%a %d %b %H:%M:%S %Y\"\n",
    "\n",
    "today = datetime.datetime.today()\n",
    "print (f'ISO: {today}')\n",
    "\n",
    "s = today.strftime(format)\n",
    "print (f'strftime: {s}')"
   ]
  },
  {
   "cell_type": "code",
   "execution_count": 445,
   "metadata": {},
   "outputs": [
    {
     "name": "stdout",
     "output_type": "stream",
     "text": [
      "22:50:00\n"
     ]
    }
   ],
   "source": [
    "# Obtain the time in HH:MM:SS\n",
    "\n",
    "print(today.strftime(\"%X\"))"
   ]
  },
  {
   "cell_type": "code",
   "execution_count": 446,
   "metadata": {},
   "outputs": [
    {
     "name": "stdout",
     "output_type": "stream",
     "text": [
      "10\n"
     ]
    }
   ],
   "source": [
    "# Obtain the hour with 12 hours time\n",
    "\n",
    "print(today.strftime(\"%I\"))"
   ]
  },
  {
   "cell_type": "code",
   "execution_count": 447,
   "metadata": {},
   "outputs": [
    {
     "name": "stdout",
     "output_type": "stream",
     "text": [
      "PM\n"
     ]
    }
   ],
   "source": [
    "# Obtain AM or PM\n",
    "\n",
    "print(today.strftime(\"%p\"))\n"
   ]
  },
  {
   "cell_type": "code",
   "execution_count": 448,
   "metadata": {},
   "outputs": [
    {
     "name": "stdout",
     "output_type": "stream",
     "text": [
      "Date and Time = Mon Nov  4 22:50:00 2024\n",
      "Date =          11/04/24\n",
      "Time =          22:50:00\n"
     ]
    }
   ],
   "source": [
    "# %c - local date and time, %x-local's date, %X- local's time\n",
    "\n",
    "print(f'Date and Time = {today.strftime(\"%c\")}')\n",
    "print(f'Date =          {today.strftime(\"%x\")}')\n",
    "print(f'Time =          {today.strftime(\"%X\")}')"
   ]
  },
  {
   "cell_type": "code",
   "execution_count": 449,
   "metadata": {},
   "outputs": [
    {
     "name": "stdout",
     "output_type": "stream",
     "text": [
      "Time = 10:50:00 PM\n",
      "Hour:Minutes = 22:50\n"
     ]
    }
   ],
   "source": [
    "# %I/%H - 12/24 Hour, %M - minute, %S - second, %p - local's AM/PM\n",
    "\n",
    "print(f\"Time = {today.strftime('%I:%M:%S %p')}\") # 12-Hour:Minute:Second:AM\n",
    "print(f\"Hour:Minutes = {today.strftime('%H:%M')}\") # 24-Hour:Minute"
   ]
  },
  {
   "cell_type": "markdown",
   "metadata": {},
   "source": [
    "#### Parsing\n",
    "\n",
    "If the format of a string is known, it can be easily parsed to a datetime object using strptime."
   ]
  },
  {
   "cell_type": "code",
   "execution_count": 450,
   "metadata": {},
   "outputs": [
    {
     "name": "stdout",
     "output_type": "stream",
     "text": [
      "Date:         2020-09-19\n",
      "Time:         14:42:00\n",
      "Date-time:    2020-09-19 14:42:00\n"
     ]
    }
   ],
   "source": [
    "datetime_str = 'Sep 19 2020 2:42PM'\n",
    "datetime_fmt = '%b %d %Y %I:%M%p'\n",
    "datetime_obj = datetime.datetime.strptime(datetime_str, datetime_fmt)\n",
    "\n",
    "print('Date:        ', datetime_obj.date())\n",
    "print('Time:        ', datetime_obj.time())\n",
    "print('Date-time:   ', datetime_obj)"
   ]
  },
  {
   "cell_type": "code",
   "execution_count": 451,
   "metadata": {},
   "outputs": [
    {
     "name": "stdout",
     "output_type": "stream",
     "text": [
      "String date:  Sep 19 2020 02:42PM\n"
     ]
    }
   ],
   "source": [
    "print('String date: ', datetime_obj.strftime(datetime_fmt))"
   ]
  },
  {
   "cell_type": "markdown",
   "metadata": {},
   "source": [
    "#### Some practise exercises"
   ]
  },
  {
   "cell_type": "code",
   "execution_count": 452,
   "metadata": {},
   "outputs": [
    {
     "name": "stdout",
     "output_type": "stream",
     "text": [
      "The number of days between 20220721 and 20221124: 126\n",
      "The number of days between 20200721 and 20101124: 3527\n"
     ]
    }
   ],
   "source": [
    "# Write a function (named number_days_between) that:\n",
    "# Takes two arguments that are 8-digit integers of the form YYYYMMDD (actually a date), and\n",
    "# Returns the number of days between the two dates.\n",
    "\n",
    "def number_days_between(date1, date2):\n",
    "    date_format = \"%Y%m%d\"\n",
    "    dt_date1 = datetime.datetime.strptime(str(date1), date_format)\n",
    "    dt_date2 = datetime.datetime.strptime(str(date2), date_format)\n",
    "    \n",
    "    if dt_date1 < dt_date2:\n",
    "        return (dt_date2-dt_date1).days\n",
    "    else:\n",
    "        return (dt_date1-dt_date2).days\n",
    "    \n",
    "date1 = 20220721\n",
    "date2 = 20221124\n",
    "print(f\"The number of days between {date1} and {date2}: {number_days_between(date1, date2)}\")\n",
    "\n",
    "date1 = 20200721\n",
    "date2 = 20101124\n",
    "print(f\"The number of days between {date1} and {date2}: {number_days_between(date1, date2)}\")"
   ]
  },
  {
   "cell_type": "code",
   "execution_count": 453,
   "metadata": {},
   "outputs": [
    {
     "name": "stdout",
     "output_type": "stream",
     "text": [
      "Number of Years:   55.0\n",
      "Number of Weeks:   2885.714285714286\n",
      "Number of Days:    20200.0\n",
      "Number of Hours:   484813.0\n",
      "Number of Minutes: 29088798.0\n",
      "Number of Seconds: 1745327880.428337\n"
     ]
    }
   ],
   "source": [
    "# On July 16, 1969, the huge, 363-feet tall Saturn V rocket launches on the Apollo 11 mission from Pad A, Launch Complex 39, Kennedy Space Center, at 9:32 a.m. EDT. \n",
    "# Write a Python program the computes (from now) the number of:\n",
    "# Years, Months, Days, Hours, Minutes, Seconds\n",
    "# since the launch.\n",
    "\n",
    "current_date = datetime.datetime.now()\n",
    "launch_date = datetime.datetime(1969, 7, 16, 9, 32)\n",
    "duration = current_date - launch_date\n",
    "\n",
    "duration_in_s = duration.total_seconds()\n",
    "years = divmod(duration_in_s, 31536000)[0]  # Seconds in a year=365*24*60*60 = 31536000\n",
    "days  = divmod(duration_in_s, 86400)[0]     # Seconds in a day = 86400\n",
    "hours = divmod(duration_in_s, 3600)[0]      # Seconds in an hour = 3600\n",
    "minutes = divmod(duration_in_s, 60)[0]      # Seconds in a minute = 60\n",
    "\n",
    "print(f\"Number of Years:   {years}\")\n",
    "print(f\"Number of Weeks:   {days/7}\")\n",
    "print(f\"Number of Days:    {days}\")\n",
    "print(f\"Number of Hours:   {hours}\")\n",
    "print(f\"Number of Minutes: {minutes}\")\n",
    "print(f\"Number of Seconds: {duration_in_s}\")"
   ]
  }
 ],
 "metadata": {
  "kernelspec": {
   "display_name": "base",
   "language": "python",
   "name": "python3"
  },
  "language_info": {
   "codemirror_mode": {
    "name": "ipython",
    "version": 3
   },
   "file_extension": ".py",
   "mimetype": "text/x-python",
   "name": "python",
   "nbconvert_exporter": "python",
   "pygments_lexer": "ipython3",
   "version": "3.11.5"
  }
 },
 "nbformat": 4,
 "nbformat_minor": 2
}
