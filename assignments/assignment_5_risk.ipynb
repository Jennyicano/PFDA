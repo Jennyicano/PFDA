{
 "cells": [
  {
   "cell_type": "markdown",
   "metadata": {},
   "source": [
    "### Assignment 5.\n",
    "\n",
    "Author Jennifer Ibanez Cano\n",
    "\n",
    "This notebook contains a program that simulates 1000 individual battle rounds in Risk (3 attacker vs 2 defender). \n",
    "The results of the winner and loser are reflected in the plots. \n",
    "\n",
    "\n",
    "##### Rules of Risk\n",
    "\n",
    "In Risk one army fights another. (using 6 sided dice)\n",
    "\n",
    "In each battle round, the attacker can put forward up to three of their troops.\n",
    "\n",
    "The defender can use up to two of their defending troops (2 dice).\n",
    "\n",
    "Each side looses troops depending on the following rules:\n",
    "\n",
    "1. The two top dice dice are compared (ie the attackers top dice roll with the defenders top dice roll) \n",
    "    - If the attackers dice is the same or lower they loose one troop otherwise the defender looses a troop (ie if the attackers dice is higher)\n",
    "2. The next two highest dice from each side are then compared (ie the attackers second highest to the defenders second highest)\n",
    "    - If the attackers dice is the same or lower they loose one troop otherwise the defender looses a troop (ie if the attackers dice is higher)"
   ]
  },
  {
   "cell_type": "code",
   "execution_count": 202,
   "metadata": {},
   "outputs": [],
   "source": [
    "import numpy as np\n",
    "import matplotlib.pyplot as plt"
   ]
  },
  {
   "cell_type": "code",
   "execution_count": 203,
   "metadata": {},
   "outputs": [],
   "source": [
    "# Roll n dice and return the results as a list.\n",
    "def roll_dice(n):\n",
    "    \n",
    "    # We generate a list of n random integers between 1 and 6 (in np.random.randint(1, 7)\n",
    "    # the higher bound (7) is exclusive and the lower bound (1) is inclusive)\n",
    "    return [np.random.randint(1, 7) for _ in range(n)]\n",
    "\n",
    "# Simulate a single battle round and return the number of troops lost by each side. \n",
    "def simulate_battle(attacker_dice, defender_dice):\n",
    "    #[3,5,4]   We sort it in descending order [5,4,3]\n",
    "    attacker_dice.sort(reverse=True)\n",
    "    defender_dice.sort(reverse=True)\n",
    "    \n",
    "    attacker_losses = 0\n",
    "    defender_losses = 0\n",
    "    \n",
    "    #We choose the minimum between the number of dice the attacker and the defender rolled,\n",
    "    #this way if the number of dice ends we don't have to change the code\n",
    "    for i in range(min(len(attacker_dice), len(defender_dice))):\n",
    "        if attacker_dice[i] > defender_dice[i]:\n",
    "            defender_losses += 1\n",
    "        else:\n",
    "            attacker_losses += 1\n",
    "    \n",
    "    return attacker_losses, defender_losses\n",
    "\n",
    "# Simulate multiple battle rounds and return the cumulative results.\n",
    "\n",
    "def simulate_battle_rounds(num_rounds):\n",
    "    attacker_losses = []\n",
    "    defender_losses = []\n",
    "    \n",
    "    for _ in range(num_rounds):\n",
    "        attacker_dice = roll_dice(3) # The attacker can roll up to 3 dice  (that's the n in roll_dice)  \n",
    "        #attacker_dice = [3,5,4]\n",
    "        defender_dice = roll_dice(2)\n",
    "        losses = simulate_battle(attacker_dice, defender_dice)\n",
    "        attacker_losses.append(losses[0])\n",
    "        defender_losses.append(losses[1])\n",
    "    \n",
    "    return attacker_losses, defender_losses"
   ]
  },
  {
   "cell_type": "code",
   "execution_count": 204,
   "metadata": {},
   "outputs": [],
   "source": [
    "# Calculate the win probabilities for attackers and defenders based on the cumulative losses.\n",
    "def calculate_win_probabilities(attacker_losses, defender_losses):\n",
    "    num_rounds = len(attacker_losses)\n",
    "    attacker_wins_probs = sum(attacker_losses[i] < defender_losses[i] for i in range(num_rounds))\n",
    "    defender_wins_probs = sum(attacker_losses[i] > defender_losses[i] for i in range(num_rounds))\n",
    "    tie_probs = sum(attacker_losses[i] == defender_losses[i] for i in range(num_rounds))\n",
    "    \n",
    "    attacker_win_prob = attacker_wins_probs / num_rounds\n",
    "    defender_win_prob = defender_wins_probs / num_rounds\n",
    "    tie_prob = tie_probs / num_rounds\n",
    "    \n",
    "    return attacker_win_prob, defender_win_prob, tie_prob\n",
    "\n",
    "# Simulate 1000 battle rounds\n",
    "attacker_losses, defender_losses = simulate_battle_rounds(1000)\n",
    "\n",
    "# Calculate win probabilities\n",
    "attacker_win_prob, defender_win_prob, tie_prob = calculate_win_probabilities(attacker_losses, defender_losses)"
   ]
  },
  {
   "cell_type": "code",
   "execution_count": 205,
   "metadata": {},
   "outputs": [
    {
     "name": "stdout",
     "output_type": "stream",
     "text": [
      "Attacker win probability: 0.42\n",
      "Defender win probability: 0.27\n",
      "Tie probability: 0.31\n"
     ]
    }
   ],
   "source": [
    "# Checking the results of the simulation.\n",
    "print(f\"Attacker win probability: {attacker_win_prob:.2f}\")\n",
    "print(f\"Defender win probability: {defender_win_prob:.2f}\")\n",
    "print(f\"Tie probability: {tie_prob:.2f}\")"
   ]
  },
  {
   "cell_type": "code",
   "execution_count": 206,
   "metadata": {},
   "outputs": [
    {
     "name": "stdout",
     "output_type": "stream",
     "text": [
      "[1, 1, 0, 0, 2, 1, 0, 1, 2, 1, 0, 1, 1, 0, 1, 0, 1, 0, 2, 0, 0, 2, 1, 2, 0, 0, 0, 2, 1, 1, 1, 0, 1, 2, 1, 2, 2, 2, 2, 1, 1, 2, 0, 0, 0, 0, 2, 0, 0, 1, 0, 1, 1, 1, 0, 0, 0, 0, 2, 0, 0, 0, 2, 0, 2, 1, 2, 0, 1, 1, 0, 1, 0, 1, 1, 0, 1, 1, 0, 0, 0, 0, 2, 2, 0, 1, 0, 0, 1, 1, 2, 2, 0, 0, 2, 0, 2, 1, 2, 1, 0, 0, 1, 0, 1, 0, 2, 0, 2, 1, 2, 2, 2, 2, 0, 0, 1, 1, 1, 1, 1, 1, 2, 0, 0, 1, 2, 2, 0, 0, 2, 0, 1, 1, 0, 0, 1, 0, 1, 0, 2, 2, 0, 2, 0, 0, 2, 0, 2, 1, 1, 2, 0, 0, 0, 1, 1, 2, 1, 0, 1, 2, 2, 1, 1, 2, 2, 2, 1, 1, 1, 1, 0, 0, 0, 1, 2, 0, 1, 0, 0, 1, 0, 0, 0, 2, 2, 2, 1, 0, 2, 0, 1, 1, 1, 1, 1, 1, 1, 0, 0, 0, 1, 0, 0, 2, 1, 1, 1, 0, 0, 0, 0, 1, 0, 0, 2, 2, 2, 2, 0, 1, 0, 0, 1, 0, 1, 1, 2, 0, 0, 0, 1, 2, 0, 2, 2, 1, 2, 2, 1, 0, 2, 1, 1, 1, 2, 1, 0, 1, 2, 2, 0, 1, 0, 1, 1, 0, 1, 0, 0, 1, 2, 2, 0, 2, 1, 2, 0, 0, 0, 2, 2, 1, 0, 0, 0, 1, 1, 1, 1, 1, 0, 0, 1, 2, 0, 0, 1, 1, 1, 1, 2, 1, 2, 2, 0, 2, 0, 0, 2, 0, 0, 1, 0, 0, 0, 0, 1, 1, 1, 1, 1, 2, 1, 0, 1, 0, 0, 0, 2, 2, 0, 0, 1, 0, 2, 0, 2, 2, 0, 1, 1, 0, 2, 0, 2, 0, 1, 1, 1, 2, 1, 0, 2, 0, 1, 2, 0, 1, 2, 2, 2, 1, 2, 2, 0, 0, 2, 2, 0, 2, 1, 0, 0, 1, 0, 2, 0, 1, 0, 2, 1, 0, 1, 0, 2, 2, 0, 2, 0, 0, 1, 0, 1, 2, 0, 1, 2, 2, 1, 0, 0, 1, 1, 2, 1, 0, 2, 0, 2, 2, 0, 2, 2, 2, 0, 1, 1, 0, 0, 0, 0, 0, 2, 2, 2, 0, 1, 1, 0, 0, 2, 2, 0, 0, 0, 0, 2, 0, 2, 2, 2, 2, 0, 1, 2, 0, 1, 1, 2, 1, 2, 2, 0, 1, 1, 2, 0, 0, 0, 2, 0, 1, 2, 0, 1, 1, 0, 1, 0, 0, 0, 0, 0, 0, 1, 1, 1, 2, 0, 0, 0, 2, 0, 2, 0, 2, 0, 2, 2, 0, 0, 0, 0, 2, 1, 1, 1, 2, 0, 0, 2, 2, 0, 1, 0, 0, 1, 2, 2, 0, 2, 0, 1, 0, 2, 2, 1, 0, 1, 1, 1, 2, 1, 0, 1, 2, 2, 0, 0, 1, 0, 2, 1, 2, 1, 0, 0, 2, 0, 2, 1, 2, 1, 2, 2, 1, 1, 2, 0, 2, 0, 0, 1, 1, 0, 2, 2, 1, 1, 0, 0, 0, 0, 2, 1, 0, 1, 0, 1, 1, 0, 0, 2, 1, 0, 1, 2, 2, 0, 2, 0, 0, 0, 0, 2, 2, 0, 1, 2, 0, 2, 1, 1, 2, 1, 0, 2, 1, 0, 0, 0, 1, 1, 0, 0, 2, 0, 0, 0, 0, 0, 0, 2, 0, 0, 1, 0, 0, 1, 0, 0, 1, 1, 1, 0, 0, 0, 1, 0, 1, 0, 0, 1, 0, 2, 0, 1, 2, 2, 0, 2, 0, 1, 0, 0, 1, 1, 1, 0, 2, 2, 1, 0, 1, 2, 1, 0, 2, 0, 0, 0, 2, 0, 0, 2, 2, 0, 1, 0, 1, 0, 2, 1, 0, 0, 0, 1, 2, 0, 1, 0, 1, 0, 1, 1, 1, 0, 2, 1, 0, 0, 0, 2, 0, 1, 0, 2, 0, 0, 1, 1, 0, 1, 0, 0, 1, 2, 2, 2, 2, 1, 0, 1, 0, 1, 1, 1, 2, 1, 2, 2, 1, 1, 1, 2, 2, 0, 0, 0, 0, 1, 2, 1, 1, 2, 2, 2, 2, 0, 2, 0, 0, 1, 0, 0, 1, 1, 2, 0, 1, 0, 2, 0, 0, 1, 0, 0, 0, 0, 2, 0, 1, 0, 0, 0, 2, 2, 0, 0, 0, 2, 0, 1, 1, 1, 0, 0, 1, 2, 1, 0, 0, 0, 0, 0, 0, 2, 0, 1, 2, 1, 1, 0, 1, 0, 0, 0, 2, 2, 2, 1, 1, 2, 0, 1, 0, 2, 0, 0, 2, 0, 1, 2, 0, 0, 0, 0, 1, 0, 0, 2, 1, 0, 2, 1, 0, 1, 2, 0, 1, 0, 2, 0, 0, 0, 1, 0, 1, 2, 2, 0, 0, 1, 1, 2, 2, 2, 1, 1, 2, 2, 0, 0, 0, 1, 0, 2, 0, 2, 0, 2, 2, 2, 1, 2, 0, 0, 0, 1, 1, 1, 1, 0, 0, 0, 0, 0, 0, 2, 0, 0, 0, 0, 1, 2, 0, 1, 2, 2, 0, 2, 0, 0, 1, 2, 0, 2, 1, 2, 1, 0, 2, 1, 1, 1, 0, 2, 2, 0, 0, 2, 0, 1, 0, 1, 0, 1, 1, 2, 2, 0, 0, 0, 1, 1, 0, 2, 1, 1, 1, 0, 2, 2, 2, 0, 1, 0, 2, 0, 0, 0, 2, 1, 0, 0, 1, 0, 1, 0, 1, 2, 1, 2, 2, 1, 0, 0, 0, 2, 0, 2, 1, 2, 0, 1, 2, 0, 1, 1, 2, 2, 2, 1, 1, 0, 2, 1, 2, 0, 0, 0, 1, 0, 1, 0, 0, 2, 0, 0, 2, 1, 0, 1, 1, 2, 2, 0, 0, 0, 2, 0, 0, 0, 0, 0, 1, 1, 0]\n",
      "578\n",
      "306\n",
      "272\n"
     ]
    }
   ],
   "source": [
    "# Number of rounds where the attacker lost troops\n",
    "print (attacker_losses)\n",
    "print (len([i for i in attacker_losses if i>0]))\n",
    "print (len([i for i in attacker_losses if i==1]))\n",
    "print (len([i for i in attacker_losses if i==2]))"
   ]
  },
  {
   "cell_type": "code",
   "execution_count": 207,
   "metadata": {},
   "outputs": [
    {
     "name": "stdout",
     "output_type": "stream",
     "text": [
      "[1, 1, 2, 2, 0, 1, 2, 1, 0, 1, 2, 1, 1, 2, 1, 2, 1, 2, 0, 2, 2, 0, 1, 0, 2, 2, 2, 0, 1, 1, 1, 2, 1, 0, 1, 0, 0, 0, 0, 1, 1, 0, 2, 2, 2, 2, 0, 2, 2, 1, 2, 1, 1, 1, 2, 2, 2, 2, 0, 2, 2, 2, 0, 2, 0, 1, 0, 2, 1, 1, 2, 1, 2, 1, 1, 2, 1, 1, 2, 2, 2, 2, 0, 0, 2, 1, 2, 2, 1, 1, 0, 0, 2, 2, 0, 2, 0, 1, 0, 1, 2, 2, 1, 2, 1, 2, 0, 2, 0, 1, 0, 0, 0, 0, 2, 2, 1, 1, 1, 1, 1, 1, 0, 2, 2, 1, 0, 0, 2, 2, 0, 2, 1, 1, 2, 2, 1, 2, 1, 2, 0, 0, 2, 0, 2, 2, 0, 2, 0, 1, 1, 0, 2, 2, 2, 1, 1, 0, 1, 2, 1, 0, 0, 1, 1, 0, 0, 0, 1, 1, 1, 1, 2, 2, 2, 1, 0, 2, 1, 2, 2, 1, 2, 2, 2, 0, 0, 0, 1, 2, 0, 2, 1, 1, 1, 1, 1, 1, 1, 2, 2, 2, 1, 2, 2, 0, 1, 1, 1, 2, 2, 2, 2, 1, 2, 2, 0, 0, 0, 0, 2, 1, 2, 2, 1, 2, 1, 1, 0, 2, 2, 2, 1, 0, 2, 0, 0, 1, 0, 0, 1, 2, 0, 1, 1, 1, 0, 1, 2, 1, 0, 0, 2, 1, 2, 1, 1, 2, 1, 2, 2, 1, 0, 0, 2, 0, 1, 0, 2, 2, 2, 0, 0, 1, 2, 2, 2, 1, 1, 1, 1, 1, 2, 2, 1, 0, 2, 2, 1, 1, 1, 1, 0, 1, 0, 0, 2, 0, 2, 2, 0, 2, 2, 1, 2, 2, 2, 2, 1, 1, 1, 1, 1, 0, 1, 2, 1, 2, 2, 2, 0, 0, 2, 2, 1, 2, 0, 2, 0, 0, 2, 1, 1, 2, 0, 2, 0, 2, 1, 1, 1, 0, 1, 2, 0, 2, 1, 0, 2, 1, 0, 0, 0, 1, 0, 0, 2, 2, 0, 0, 2, 0, 1, 2, 2, 1, 2, 0, 2, 1, 2, 0, 1, 2, 1, 2, 0, 0, 2, 0, 2, 2, 1, 2, 1, 0, 2, 1, 0, 0, 1, 2, 2, 1, 1, 0, 1, 2, 0, 2, 0, 0, 2, 0, 0, 0, 2, 1, 1, 2, 2, 2, 2, 2, 0, 0, 0, 2, 1, 1, 2, 2, 0, 0, 2, 2, 2, 2, 0, 2, 0, 0, 0, 0, 2, 1, 0, 2, 1, 1, 0, 1, 0, 0, 2, 1, 1, 0, 2, 2, 2, 0, 2, 1, 0, 2, 1, 1, 2, 1, 2, 2, 2, 2, 2, 2, 1, 1, 1, 0, 2, 2, 2, 0, 2, 0, 2, 0, 2, 0, 0, 2, 2, 2, 2, 0, 1, 1, 1, 0, 2, 2, 0, 0, 2, 1, 2, 2, 1, 0, 0, 2, 0, 2, 1, 2, 0, 0, 1, 2, 1, 1, 1, 0, 1, 2, 1, 0, 0, 2, 2, 1, 2, 0, 1, 0, 1, 2, 2, 0, 2, 0, 1, 0, 1, 0, 0, 1, 1, 0, 2, 0, 2, 2, 1, 1, 2, 0, 0, 1, 1, 2, 2, 2, 2, 0, 1, 2, 1, 2, 1, 1, 2, 2, 0, 1, 2, 1, 0, 0, 2, 0, 2, 2, 2, 2, 0, 0, 2, 1, 0, 2, 0, 1, 1, 0, 1, 2, 0, 1, 2, 2, 2, 1, 1, 2, 2, 0, 2, 2, 2, 2, 2, 2, 0, 2, 2, 1, 2, 2, 1, 2, 2, 1, 1, 1, 2, 2, 2, 1, 2, 1, 2, 2, 1, 2, 0, 2, 1, 0, 0, 2, 0, 2, 1, 2, 2, 1, 1, 1, 2, 0, 0, 1, 2, 1, 0, 1, 2, 0, 2, 2, 2, 0, 2, 2, 0, 0, 2, 1, 2, 1, 2, 0, 1, 2, 2, 2, 1, 0, 2, 1, 2, 1, 2, 1, 1, 1, 2, 0, 1, 2, 2, 2, 0, 2, 1, 2, 0, 2, 2, 1, 1, 2, 1, 2, 2, 1, 0, 0, 0, 0, 1, 2, 1, 2, 1, 1, 1, 0, 1, 0, 0, 1, 1, 1, 0, 0, 2, 2, 2, 2, 1, 0, 1, 1, 0, 0, 0, 0, 2, 0, 2, 2, 1, 2, 2, 1, 1, 0, 2, 1, 2, 0, 2, 2, 1, 2, 2, 2, 2, 0, 2, 1, 2, 2, 2, 0, 0, 2, 2, 2, 0, 2, 1, 1, 1, 2, 2, 1, 0, 1, 2, 2, 2, 2, 2, 2, 0, 2, 1, 0, 1, 1, 2, 1, 2, 2, 2, 0, 0, 0, 1, 1, 0, 2, 1, 2, 0, 2, 2, 0, 2, 1, 0, 2, 2, 2, 2, 1, 2, 2, 0, 1, 2, 0, 1, 2, 1, 0, 2, 1, 2, 0, 2, 2, 2, 1, 2, 1, 0, 0, 2, 2, 1, 1, 0, 0, 0, 1, 1, 0, 0, 2, 2, 2, 1, 2, 0, 2, 0, 2, 0, 0, 0, 1, 0, 2, 2, 2, 1, 1, 1, 1, 2, 2, 2, 2, 2, 2, 0, 2, 2, 2, 2, 1, 0, 2, 1, 0, 0, 2, 0, 2, 2, 1, 0, 2, 0, 1, 0, 1, 2, 0, 1, 1, 1, 2, 0, 0, 2, 2, 0, 2, 1, 2, 1, 2, 1, 1, 0, 0, 2, 2, 2, 1, 1, 2, 0, 1, 1, 1, 2, 0, 0, 0, 2, 1, 2, 0, 2, 2, 2, 0, 1, 2, 2, 1, 2, 1, 2, 1, 0, 1, 0, 0, 1, 2, 2, 2, 0, 2, 0, 1, 0, 2, 1, 0, 2, 1, 1, 0, 0, 0, 1, 1, 2, 0, 1, 0, 2, 2, 2, 1, 2, 1, 2, 2, 0, 2, 2, 0, 1, 2, 1, 1, 0, 0, 2, 2, 2, 0, 2, 2, 2, 2, 2, 1, 1, 2]\n",
      "272\n",
      "306\n",
      "422\n"
     ]
    }
   ],
   "source": [
    "# Number of rounds where the defender lost troops\n",
    "print (defender_losses)\n",
    "print (len([i for i in defender_losses if i==0]))\n",
    "print (len([i for i in defender_losses if i==1]))\n",
    "print (len([i for i in defender_losses if i==2]))"
   ]
  },
  {
   "cell_type": "code",
   "execution_count": 208,
   "metadata": {},
   "outputs": [
    {
     "data": {
      "image/png": "[encoded data removed]",
      "text/plain": [
       "<Figure size 640x480 with 1 Axes>"
      ]
     },
     "metadata": {},
     "output_type": "display_data"
    }
   ],
   "source": [
    "# Plot the win probabilities\n",
    "labels = ['Attacker', 'Defender', 'Tie']\n",
    "probabilities = [attacker_win_prob, defender_win_prob, tie_prob]\n",
    "\n",
    "plt.bar(labels, probabilities, color =[\"red\", \"blue\", \"green\"], edgecolor = \"black\")\n",
    "plt.xlabel('Side')\n",
    "plt.ylabel('Win Probability')\n",
    "plt.title('Win Probability for Attackers and Defenders')\n",
    "plt.ylim(0, 1)\n",
    "plt.text(0, attacker_win_prob, f\"{attacker_win_prob:.2f}\", ha='center', va='bottom')\n",
    "plt.text(1, defender_win_prob, f\"{defender_win_prob:.2f}\", ha='center', va='bottom')\n",
    "plt.text(2, tie_prob, f\"{tie_prob:.2f}\", ha='center', va='bottom')  \n",
    "plt.show()"
   ]
  },
  {
   "cell_type": "code",
   "execution_count": null,
   "metadata": {},
   "outputs": [],
   "source": []
  }
 ],
 "metadata": {
  "kernelspec": {
   "display_name": "base",
   "language": "python",
   "name": "python3"
  },
  "language_info": {
   "codemirror_mode": {
    "name": "ipython",
    "version": 3
   },
   "file_extension": ".py",
   "mimetype": "text/x-python",
   "name": "python",
   "nbconvert_exporter": "python",
   "pygments_lexer": "ipython3",
   "version": "3.11.5"
  }
 },
 "nbformat": 4,
 "nbformat_minor": 2
}
