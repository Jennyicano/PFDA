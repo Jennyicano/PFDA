{
 "cells": [
  {
   "cell_type": "markdown",
   "metadata": {},
   "source": [
    "### Assignment 5.\n",
    "\n",
    "Author Jennifer Ibanez Cano\n",
    "\n",
    "This notebook contains a program that simulates 1000 individual battle rounds in Risk (3 attacker vs 2 defender). \n",
    "The results of the winner and loser are reflected in the plots. "
   ]
  },
  {
   "cell_type": "markdown",
   "metadata": {},
   "source": [
    "![Risk](https://i0.wp.com/thepythoncodingbook.com/wp-content/uploads/2022/12/risk_board_game.jpg?fit=1263%2C833&ssl=1)\n",
    "\n",
    "##### Rules of Risk\n",
    "\n",
    "In Risk one army fights another. (using 6 sided dice)\n",
    "\n",
    "In each battle round, the attacker can put forward up to three of their troops.\n",
    "\n",
    "The defender can use up to two of their defending troops (2 dice).\n",
    "\n",
    "Each side looses troops depending on the following rules:\n",
    "\n",
    "1. The two top dice dice are compared (ie the attackers top dice roll with the defenders top dice roll) \n",
    "    - If the attackers dice is the same or lower they loose one troop otherwise the defender looses a troop (ie if the attackers dice is higher)\n",
    "2. The next two highest dice from each side are then compared (ie the attackers second highest to the defenders second highest)\n",
    "    - If the attackers dice is the same or lower they loose one troop otherwise the defender looses a troop (ie if the attackers dice is higher)\n",
    "\n",
    "\n",
    "[Rules of Risk](https://www.ultraboardgames.com/risk/game-rules.php?utm_content=cmp-true)\n",
    "\n",
    "************"
   ]
  },
  {
   "cell_type": "code",
   "execution_count": 82,
   "metadata": {},
   "outputs": [],
   "source": [
    "import numpy as np\n",
    "import matplotlib.pyplot as plt"
   ]
  },
  {
   "cell_type": "code",
   "execution_count": 83,
   "metadata": {},
   "outputs": [],
   "source": [
    "# Roll n dice and return the results as a list.\n",
    "def roll_dice(n):\n",
    "    \n",
    "    # We generate a list of n random integers between 1 and 6 (in np.random.randint(1, 7)\n",
    "    # the higher bound (7) is exclusive and the lower bound (1) is inclusive)\n",
    "    return [np.random.randint(1, 7) for _ in range(n)]\n",
    "\n",
    "# Simulate a single battle round and return the number of troops lost by each side. \n",
    "def simulate_battle(attacker_dice, defender_dice):\n",
    "    #attacker_dice =[3,5,4]   We sort it in descending order [5,4,3]\n",
    "    #defender_dice =[2,4]      We sort it in descending order [4,2]  \n",
    "    attacker_dice.sort(reverse=True)\n",
    "    defender_dice.sort(reverse=True)\n",
    "    \n",
    "    attacker_losses = 0\n",
    "    defender_losses = 0\n",
    "    \n",
    "    #We choose the minimum between the number of dice the attacker and the defender rolled,\n",
    "    #this way if the number of dice ends we don't have to change the code\n",
    "    for i in range(min(len(attacker_dice), len(defender_dice))):\n",
    "        if attacker_dice[i] > defender_dice[i]:\n",
    "            defender_losses += 1\n",
    "        else:\n",
    "            attacker_losses += 1\n",
    "    \n",
    "    return attacker_losses, defender_losses\n",
    "\n",
    "# Simulate multiple battle rounds and return the cumulative results.\n",
    "\n",
    "def simulate_battle_rounds(num_rounds):\n",
    "    attacker_losses = []\n",
    "    defender_losses = []\n",
    "    \n",
    "    for _ in range(num_rounds):\n",
    "        attacker_dice = roll_dice(3) # The attacker can roll up to 3 dice  (that's the n in roll_dice)  \n",
    "        #attacker_dice = [3,5,4]\n",
    "        defender_dice = roll_dice(2)\n",
    "        #defender_dice = [2,4]\n",
    "        losses = simulate_battle(attacker_dice, defender_dice) #[0,2]\n",
    "        attacker_losses.append(losses[0])\n",
    "        defender_losses.append(losses[1])\n",
    "    \n",
    "    return attacker_losses, defender_losses"
   ]
  },
  {
   "cell_type": "code",
   "execution_count": 84,
   "metadata": {},
   "outputs": [],
   "source": [
    "# Calculate the win probabilities for attackers and defenders based on the cumulative losses.\n",
    "def calculate_win_probabilities(attacker_losses, defender_losses):\n",
    "    num_rounds = len(attacker_losses)\n",
    "    attacker_wins_probs = sum(attacker_losses[i] < defender_losses[i] for i in range(num_rounds))\n",
    "    defender_wins_probs = sum(attacker_losses[i] > defender_losses[i] for i in range(num_rounds))\n",
    "    tie_probs = sum(attacker_losses[i] == defender_losses[i] for i in range(num_rounds))\n",
    "    \n",
    "    attacker_win_prob = attacker_wins_probs / num_rounds\n",
    "    defender_win_prob = defender_wins_probs / num_rounds\n",
    "    tie_prob = tie_probs / num_rounds\n",
    "    \n",
    "    return attacker_win_prob, defender_win_prob, tie_prob\n",
    "\n",
    "# Simulate 1000 battle rounds\n",
    "attacker_losses, defender_losses = simulate_battle_rounds(1000)\n",
    "\n",
    "# Calculate win probabilities\n",
    "attacker_win_prob, defender_win_prob, tie_prob = calculate_win_probabilities(attacker_losses, defender_losses)"
   ]
  },
  {
   "cell_type": "code",
   "execution_count": 85,
   "metadata": {},
   "outputs": [
    {
     "name": "stdout",
     "output_type": "stream",
     "text": [
      "Attacker win probability: 0.36\n",
      "Defender win probability: 0.30\n",
      "Tie probability: 0.34\n"
     ]
    }
   ],
   "source": [
    "# Checking the results of the simulation.\n",
    "print(f\"Attacker win probability: {attacker_win_prob:.2f}\")\n",
    "print(f\"Defender win probability: {defender_win_prob:.2f}\")\n",
    "print(f\"Tie probability: {tie_prob:.2f}\")"
   ]
  },
  {
   "cell_type": "code",
   "execution_count": 86,
   "metadata": {},
   "outputs": [
    {
     "name": "stdout",
     "output_type": "stream",
     "text": [
      "[2, 0, 1, 1, 1, 1, 2, 0, 0, 2, 0, 0, 2, 0, 2, 1, 1, 0, 0, 1, 1, 0, 1, 1, 0, 1, 1, 1, 1, 0, 0, 2, 2, 1, 2, 0, 0, 1, 1, 2, 2, 2, 1, 2, 0, 2, 2, 1, 0, 0, 2, 2, 0, 2, 1, 1, 2, 2, 0, 1, 2, 1, 1, 2, 0, 2, 0, 0, 1, 1, 0, 2, 0, 2, 1, 1, 2, 1, 1, 1, 2, 1, 1, 2, 0, 1, 0, 2, 2, 0, 2, 0, 2, 2, 2, 1, 0, 2, 0, 1, 0, 1, 1, 1, 2, 2, 1, 2, 0, 0, 0, 2, 1, 1, 1, 0, 0, 2, 1, 1, 0, 2, 0, 0, 0, 0, 2, 0, 1, 0, 0, 1, 0, 0, 2, 2, 1, 1, 0, 0, 0, 1, 2, 0, 2, 0, 1, 1, 2, 0, 1, 0, 2, 2, 1, 2, 2, 2, 2, 2, 2, 2, 2, 0, 0, 2, 0, 1, 0, 2, 1, 2, 1, 0, 0, 0, 1, 2, 1, 2, 0, 2, 1, 1, 2, 1, 1, 2, 2, 0, 0, 0, 1, 0, 0, 2, 1, 0, 0, 0, 1, 1, 1, 0, 1, 0, 0, 2, 0, 0, 0, 1, 2, 2, 2, 2, 0, 1, 2, 1, 2, 0, 0, 2, 0, 0, 1, 0, 0, 2, 0, 1, 0, 0, 1, 0, 0, 0, 1, 2, 1, 2, 0, 0, 0, 1, 0, 1, 0, 0, 1, 0, 0, 0, 1, 2, 2, 2, 1, 2, 0, 1, 0, 1, 1, 2, 2, 1, 0, 1, 2, 1, 0, 0, 1, 1, 1, 1, 2, 2, 0, 1, 1, 2, 1, 1, 1, 0, 0, 0, 2, 1, 1, 1, 1, 2, 1, 1, 0, 1, 0, 2, 1, 0, 0, 0, 0, 1, 0, 1, 2, 2, 2, 2, 1, 0, 1, 1, 2, 1, 0, 0, 2, 2, 0, 2, 2, 0, 1, 2, 2, 1, 1, 0, 0, 0, 0, 2, 2, 0, 1, 2, 2, 0, 2, 2, 2, 1, 2, 0, 1, 1, 0, 1, 1, 1, 1, 2, 1, 0, 2, 0, 2, 0, 1, 2, 2, 1, 2, 0, 0, 0, 0, 2, 2, 0, 0, 0, 2, 0, 0, 1, 0, 1, 1, 2, 0, 2, 1, 0, 2, 2, 0, 0, 1, 0, 0, 0, 1, 0, 2, 0, 1, 1, 1, 0, 2, 2, 2, 1, 2, 0, 2, 2, 1, 0, 0, 0, 2, 2, 1, 2, 2, 1, 1, 2, 1, 2, 0, 0, 2, 1, 1, 0, 2, 2, 1, 0, 1, 0, 1, 0, 1, 2, 2, 2, 1, 1, 1, 2, 1, 0, 0, 1, 0, 1, 0, 2, 0, 2, 1, 1, 0, 0, 1, 0, 0, 2, 0, 1, 0, 1, 2, 1, 0, 1, 0, 0, 0, 2, 0, 2, 2, 0, 2, 0, 0, 0, 1, 2, 2, 1, 1, 0, 2, 0, 1, 0, 1, 2, 0, 0, 2, 0, 1, 2, 2, 0, 1, 0, 2, 1, 1, 0, 1, 1, 0, 0, 2, 1, 0, 1, 2, 1, 0, 0, 0, 1, 0, 1, 2, 0, 0, 1, 2, 1, 0, 1, 0, 1, 1, 0, 1, 0, 1, 1, 0, 2, 0, 1, 0, 0, 0, 0, 1, 0, 2, 1, 0, 0, 2, 2, 0, 1, 1, 2, 2, 2, 2, 2, 2, 0, 0, 2, 2, 1, 2, 0, 2, 0, 0, 0, 0, 0, 2, 1, 0, 0, 0, 0, 0, 0, 0, 0, 0, 1, 1, 2, 0, 0, 2, 1, 0, 1, 1, 1, 0, 0, 1, 1, 1, 1, 0, 1, 2, 0, 0, 1, 1, 1, 1, 2, 2, 1, 0, 1, 0, 2, 2, 1, 1, 2, 2, 2, 2, 2, 2, 1, 2, 2, 0, 1, 1, 1, 0, 0, 2, 0, 0, 1, 0, 1, 1, 2, 1, 2, 0, 1, 0, 1, 2, 2, 0, 1, 0, 1, 2, 1, 0, 2, 1, 0, 1, 0, 1, 0, 1, 2, 1, 0, 2, 0, 1, 2, 2, 1, 1, 1, 1, 0, 1, 1, 0, 0, 1, 1, 0, 1, 2, 0, 2, 2, 2, 1, 0, 1, 1, 0, 0, 0, 0, 2, 2, 0, 0, 2, 2, 2, 2, 2, 2, 0, 0, 0, 1, 0, 0, 1, 0, 1, 1, 1, 2, 1, 1, 2, 1, 2, 0, 0, 2, 0, 2, 0, 0, 1, 2, 1, 2, 1, 0, 1, 1, 2, 0, 2, 0, 0, 1, 2, 2, 0, 0, 1, 2, 0, 0, 0, 2, 1, 2, 1, 1, 0, 2, 2, 1, 0, 0, 1, 0, 1, 0, 1, 1, 2, 0, 0, 0, 1, 1, 1, 0, 2, 0, 1, 2, 2, 0, 0, 0, 1, 0, 2, 2, 2, 2, 1, 1, 2, 2, 2, 0, 2, 0, 0, 1, 1, 2, 2, 2, 1, 2, 0, 1, 0, 0, 0, 1, 1, 0, 1, 1, 1, 2, 1, 1, 0, 0, 1, 2, 1, 1, 1, 1, 0, 2, 2, 1, 2, 0, 0, 2, 0, 1, 1, 1, 1, 0, 1, 0, 0, 1, 1, 2, 2, 2, 2, 1, 1, 1, 2, 1, 0, 1, 2, 1, 2, 2, 1, 2, 0, 0, 1, 2, 2, 0, 2, 2, 0, 1, 1, 2, 1, 2, 1, 1, 0, 2, 2, 2, 0, 0, 0, 2, 0, 1, 1, 2, 0, 2, 2, 1, 1, 2, 2, 2, 1, 1, 1, 0, 0, 1, 2, 0, 2, 2, 0, 1, 0, 0, 0, 0, 0, 1, 2, 0, 0, 0, 0, 1, 1, 0, 2, 2, 2, 1, 0, 0, 1, 2, 2, 1, 1, 1, 1, 2, 0, 1, 2, 2, 1, 0, 1, 2, 2, 2, 1, 2, 0, 1, 0, 2, 0, 0, 2, 1, 1, 1, 0, 0, 0, 2, 0, 0, 0, 0, 2, 2, 1, 1, 2, 1, 1, 0, 0, 0, 1, 0, 0]\n",
      "638\n",
      "338\n",
      "300\n"
     ]
    }
   ],
   "source": [
    "# Number of rounds where the attacker lost troops\n",
    "print (attacker_losses)\n",
    "print (len([i for i in attacker_losses if i>0]))\n",
    "print (len([i for i in attacker_losses if i==1]))\n",
    "print (len([i for i in attacker_losses if i==2]))"
   ]
  },
  {
   "cell_type": "code",
   "execution_count": 87,
   "metadata": {},
   "outputs": [
    {
     "name": "stdout",
     "output_type": "stream",
     "text": [
      "[0, 2, 1, 1, 1, 1, 0, 2, 2, 0, 2, 2, 0, 2, 0, 1, 1, 2, 2, 1, 1, 2, 1, 1, 2, 1, 1, 1, 1, 2, 2, 0, 0, 1, 0, 2, 2, 1, 1, 0, 0, 0, 1, 0, 2, 0, 0, 1, 2, 2, 0, 0, 2, 0, 1, 1, 0, 0, 2, 1, 0, 1, 1, 0, 2, 0, 2, 2, 1, 1, 2, 0, 2, 0, 1, 1, 0, 1, 1, 1, 0, 1, 1, 0, 2, 1, 2, 0, 0, 2, 0, 2, 0, 0, 0, 1, 2, 0, 2, 1, 2, 1, 1, 1, 0, 0, 1, 0, 2, 2, 2, 0, 1, 1, 1, 2, 2, 0, 1, 1, 2, 0, 2, 2, 2, 2, 0, 2, 1, 2, 2, 1, 2, 2, 0, 0, 1, 1, 2, 2, 2, 1, 0, 2, 0, 2, 1, 1, 0, 2, 1, 2, 0, 0, 1, 0, 0, 0, 0, 0, 0, 0, 0, 2, 2, 0, 2, 1, 2, 0, 1, 0, 1, 2, 2, 2, 1, 0, 1, 0, 2, 0, 1, 1, 0, 1, 1, 0, 0, 2, 2, 2, 1, 2, 2, 0, 1, 2, 2, 2, 1, 1, 1, 2, 1, 2, 2, 0, 2, 2, 2, 1, 0, 0, 0, 0, 2, 1, 0, 1, 0, 2, 2, 0, 2, 2, 1, 2, 2, 0, 2, 1, 2, 2, 1, 2, 2, 2, 1, 0, 1, 0, 2, 2, 2, 1, 2, 1, 2, 2, 1, 2, 2, 2, 1, 0, 0, 0, 1, 0, 2, 1, 2, 1, 1, 0, 0, 1, 2, 1, 0, 1, 2, 2, 1, 1, 1, 1, 0, 0, 2, 1, 1, 0, 1, 1, 1, 2, 2, 2, 0, 1, 1, 1, 1, 0, 1, 1, 2, 1, 2, 0, 1, 2, 2, 2, 2, 1, 2, 1, 0, 0, 0, 0, 1, 2, 1, 1, 0, 1, 2, 2, 0, 0, 2, 0, 0, 2, 1, 0, 0, 1, 1, 2, 2, 2, 2, 0, 0, 2, 1, 0, 0, 2, 0, 0, 0, 1, 0, 2, 1, 1, 2, 1, 1, 1, 1, 0, 1, 2, 0, 2, 0, 2, 1, 0, 0, 1, 0, 2, 2, 2, 2, 0, 0, 2, 2, 2, 0, 2, 2, 1, 2, 1, 1, 0, 2, 0, 1, 2, 0, 0, 2, 2, 1, 2, 2, 2, 1, 2, 0, 2, 1, 1, 1, 2, 0, 0, 0, 1, 0, 2, 0, 0, 1, 2, 2, 2, 0, 0, 1, 0, 0, 1, 1, 0, 1, 0, 2, 2, 0, 1, 1, 2, 0, 0, 1, 2, 1, 2, 1, 2, 1, 0, 0, 0, 1, 1, 1, 0, 1, 2, 2, 1, 2, 1, 2, 0, 2, 0, 1, 1, 2, 2, 1, 2, 2, 0, 2, 1, 2, 1, 0, 1, 2, 1, 2, 2, 2, 0, 2, 0, 0, 2, 0, 2, 2, 2, 1, 0, 0, 1, 1, 2, 0, 2, 1, 2, 1, 0, 2, 2, 0, 2, 1, 0, 0, 2, 1, 2, 0, 1, 1, 2, 1, 1, 2, 2, 0, 1, 2, 1, 0, 1, 2, 2, 2, 1, 2, 1, 0, 2, 2, 1, 0, 1, 2, 1, 2, 1, 1, 2, 1, 2, 1, 1, 2, 0, 2, 1, 2, 2, 2, 2, 1, 2, 0, 1, 2, 2, 0, 0, 2, 1, 1, 0, 0, 0, 0, 0, 0, 2, 2, 0, 0, 1, 0, 2, 0, 2, 2, 2, 2, 2, 0, 1, 2, 2, 2, 2, 2, 2, 2, 2, 2, 1, 1, 0, 2, 2, 0, 1, 2, 1, 1, 1, 2, 2, 1, 1, 1, 1, 2, 1, 0, 2, 2, 1, 1, 1, 1, 0, 0, 1, 2, 1, 2, 0, 0, 1, 1, 0, 0, 0, 0, 0, 0, 1, 0, 0, 2, 1, 1, 1, 2, 2, 0, 2, 2, 1, 2, 1, 1, 0, 1, 0, 2, 1, 2, 1, 0, 0, 2, 1, 2, 1, 0, 1, 2, 0, 1, 2, 1, 2, 1, 2, 1, 0, 1, 2, 0, 2, 1, 0, 0, 1, 1, 1, 1, 2, 1, 1, 2, 2, 1, 1, 2, 1, 0, 2, 0, 0, 0, 1, 2, 1, 1, 2, 2, 2, 2, 0, 0, 2, 2, 0, 0, 0, 0, 0, 0, 2, 2, 2, 1, 2, 2, 1, 2, 1, 1, 1, 0, 1, 1, 0, 1, 0, 2, 2, 0, 2, 0, 2, 2, 1, 0, 1, 0, 1, 2, 1, 1, 0, 2, 0, 2, 2, 1, 0, 0, 2, 2, 1, 0, 2, 2, 2, 0, 1, 0, 1, 1, 2, 0, 0, 1, 2, 2, 1, 2, 1, 2, 1, 1, 0, 2, 2, 2, 1, 1, 1, 2, 0, 2, 1, 0, 0, 2, 2, 2, 1, 2, 0, 0, 0, 0, 1, 1, 0, 0, 0, 2, 0, 2, 2, 1, 1, 0, 0, 0, 1, 0, 2, 1, 2, 2, 2, 1, 1, 2, 1, 1, 1, 0, 1, 1, 2, 2, 1, 0, 1, 1, 1, 1, 2, 0, 0, 1, 0, 2, 2, 0, 2, 1, 1, 1, 1, 2, 1, 2, 2, 1, 1, 0, 0, 0, 0, 1, 1, 1, 0, 1, 2, 1, 0, 1, 0, 0, 1, 0, 2, 2, 1, 0, 0, 2, 0, 0, 2, 1, 1, 0, 1, 0, 1, 1, 2, 0, 0, 0, 2, 2, 2, 0, 2, 1, 1, 0, 2, 0, 0, 1, 1, 0, 0, 0, 1, 1, 1, 2, 2, 1, 0, 2, 0, 0, 2, 1, 2, 2, 2, 2, 2, 1, 0, 2, 2, 2, 2, 1, 1, 2, 0, 0, 0, 1, 2, 2, 1, 0, 0, 1, 1, 1, 1, 0, 2, 1, 0, 0, 1, 2, 1, 0, 0, 0, 1, 0, 2, 1, 2, 0, 2, 2, 0, 1, 1, 1, 2, 2, 2, 0, 2, 2, 2, 2, 0, 0, 1, 1, 0, 1, 1, 2, 2, 2, 1, 2, 2]\n",
      "300\n",
      "338\n",
      "362\n"
     ]
    }
   ],
   "source": [
    "# Number of rounds where the defender lost troops\n",
    "print (defender_losses)\n",
    "print (len([i for i in defender_losses if i==0]))\n",
    "print (len([i for i in defender_losses if i==1]))\n",
    "print (len([i for i in defender_losses if i==2]))"
   ]
  },
  {
   "cell_type": "code",
   "execution_count": 88,
   "metadata": {},
   "outputs": [
    {
     "data": {
      "image/png": "[encoded data removed]",
      "text/plain": [
       "<Figure size 640x480 with 1 Axes>"
      ]
     },
     "metadata": {},
     "output_type": "display_data"
    }
   ],
   "source": [
    "# Plot the win probabilities\n",
    "labels = ['Attacker', 'Defender', 'Tie']\n",
    "probabilities = [attacker_win_prob, defender_win_prob, tie_prob]\n",
    "\n",
    "plt.bar(labels, probabilities, color =[\"red\", \"blue\", \"green\"], edgecolor = \"black\")\n",
    "plt.xlabel('Side')\n",
    "plt.ylabel('Win Probability')\n",
    "plt.title('Win Probability for Attackers and Defenders')\n",
    "plt.ylim(0, 1)\n",
    "plt.text(0, attacker_win_prob, f\"{attacker_win_prob:.2f}\", ha='center', va='bottom')\n",
    "plt.text(1, defender_win_prob, f\"{defender_win_prob:.2f}\", ha='center', va='bottom')\n",
    "plt.text(2, tie_prob, f\"{tie_prob:.2f}\", ha='center', va='bottom')  \n",
    "plt.show()"
   ]
  },
  {
   "cell_type": "markdown",
   "metadata": {},
   "source": [
    "With this plot we can see that everytime that we run the program the results will show the attacker as a winner, close by the option tie and then the defender side. ALthough the attacker shows as the winner the defender probabilities are very close too. "
   ]
  },
  {
   "cell_type": "markdown",
   "metadata": {},
   "source": [
    "A different version where the program simulates a full series of rounds for armies of arbitrary sizes, until one side is wiped out, and plots the results."
   ]
  },
  {
   "cell_type": "code",
   "execution_count": 89,
   "metadata": {},
   "outputs": [],
   "source": [
    "# six troops each, and attacker can use up to 3 troops in a battle round and defender up to 2 troops\n",
    "\n",
    "#example AT:6 DE:6\n",
    "#1st round AT [3,5,4] DF [4,4] --> DF loses 1, AT loses 1--> AT:5 DE:5\n",
    "#2nd round AT [1,3,6] DF [1,2] --> DF loses 2, AT loses 0--> AT:5 DE:3\n",
    "#3rd round AT [1,2,3] DF [1,4] --> DF loses 1, AT loses 1--> AT:4 DE:2\n",
    "#4th round AT [1,2,6] DF [2,3] --> DF loses 1, AT loses 1--> AT:3 DE:1\n",
    "#5th round AT [1,2,5] DF [3]   --> DF loses 1, AT loses 0--> AT:2 DE:0\n",
    "\n",
    "#AT wins\n",
    "\n",
    "def simulate_battle_rounds_second(num_rounds):\n",
    "    wins = []\n",
    "    for _ in range(num_rounds):\n",
    "        #We start each round with 6 troops each\n",
    "        attacker_troops = 6\n",
    "        defender_troops = 6\n",
    "\n",
    "        existingTroops = True #We will use this variable to check if any player has no troops left and continue the game (while loop)\n",
    "        while existingTroops:\n",
    "            attacker_dice = roll_dice(min(attacker_troops, 3)) # The attacker can roll up to 3 dice  (that's the n in roll_dice)  \n",
    "            #attacker_dice = [3,5,4]\n",
    "            defender_dice = roll_dice(min(defender_troops, 2)) # The defender can roll up to 2 dice, it will choose the smallest between the number of defender_troops and 2\n",
    "            #defender_dice = [2,4]\n",
    "            losses = simulate_battle(attacker_dice, defender_dice) #losses == [0,2]\n",
    "            #we subtract the losses from each player\n",
    "            attacker_troops = attacker_troops - losses[0]\n",
    "            defender_troops = defender_troops - losses[1]\n",
    "            #Check if any player has no troops left\n",
    "            if attacker_troops == 0:\n",
    "                existingTroops = False\n",
    "                wins.append(\"D\")\n",
    "            elif defender_troops == 0:\n",
    "                existingTroops = False\n",
    "                wins.append(\"A\")    \n",
    "            #if both players have troops left, we continue with the next round  \n",
    "        \n",
    "    return wins"
   ]
  },
  {
   "cell_type": "code",
   "execution_count": 90,
   "metadata": {},
   "outputs": [
    {
     "name": "stdout",
     "output_type": "stream",
     "text": [
      "['D', 'D', 'A', 'A', 'A', 'A', 'D', 'D', 'D', 'A', 'A', 'A', 'A', 'D', 'A', 'D', 'A', 'A', 'D', 'A', 'A', 'A', 'D', 'A', 'A', 'A', 'D', 'A', 'A', 'A', 'A', 'A', 'D', 'A', 'A', 'A', 'A', 'D', 'D', 'D', 'A', 'D', 'A', 'D', 'D', 'D', 'D', 'A', 'D', 'A', 'A', 'D', 'D', 'A', 'A', 'D', 'A', 'D', 'A', 'A', 'A', 'A', 'D', 'A', 'D', 'D', 'A', 'A', 'D', 'D', 'D', 'A', 'D', 'D', 'D', 'D', 'A', 'D', 'A', 'D', 'D', 'A', 'D', 'D', 'A', 'D', 'D', 'A', 'D', 'A', 'D', 'A', 'D', 'A', 'A', 'A', 'A', 'A', 'A', 'A', 'A', 'A', 'A', 'D', 'A', 'D', 'D', 'A', 'D', 'A', 'D', 'A', 'D', 'D', 'D', 'A', 'D', 'D', 'D', 'D', 'D', 'D', 'D', 'A', 'A', 'D', 'D', 'A', 'A', 'A', 'D', 'A', 'A', 'D', 'A', 'A', 'A', 'D', 'D', 'A', 'D', 'D', 'A', 'D', 'A', 'D', 'D', 'D', 'D', 'D', 'D', 'D', 'D', 'D', 'A', 'A', 'A', 'A', 'A', 'D', 'A', 'D', 'A', 'D', 'A', 'D', 'A', 'A', 'A', 'A', 'A', 'D', 'A', 'D', 'A', 'D', 'A', 'D', 'A', 'A', 'D', 'D', 'A', 'A', 'A', 'D', 'A', 'A', 'D', 'D', 'D', 'A', 'D', 'A', 'D', 'D', 'A', 'A', 'D', 'A', 'D', 'A', 'D', 'A', 'A', 'A', 'D', 'D', 'A', 'D', 'A', 'A', 'A', 'A', 'D', 'D', 'A', 'D', 'A', 'D', 'A', 'A', 'A', 'D', 'A', 'A', 'A', 'D', 'D', 'A', 'A', 'A', 'A', 'D', 'D', 'A', 'A', 'D', 'A', 'D', 'D', 'D', 'A', 'A', 'D', 'D', 'D', 'D', 'D', 'D', 'A', 'D', 'A', 'D', 'D', 'D', 'A', 'A', 'D', 'A', 'A', 'D', 'A', 'D', 'A', 'A', 'D', 'A', 'A', 'D', 'A', 'D', 'A', 'D', 'D', 'A', 'A', 'D', 'D', 'A', 'D', 'A', 'D', 'A', 'D', 'A', 'D', 'A', 'D', 'D', 'D', 'D', 'A', 'A', 'D', 'D', 'A', 'D', 'D', 'A', 'D', 'A', 'A', 'A', 'D', 'A', 'A', 'D', 'A', 'D', 'D', 'D', 'A', 'D', 'A', 'A', 'D', 'A', 'A', 'D', 'A', 'D', 'A', 'A', 'A', 'D', 'A', 'A', 'A', 'A', 'D', 'D', 'A', 'A', 'D', 'A', 'A', 'A', 'D', 'A', 'D', 'A', 'A', 'A', 'A', 'A', 'A', 'A', 'D', 'A', 'D', 'A', 'D', 'D', 'A', 'D', 'A', 'A', 'A', 'A', 'D', 'D', 'D', 'D', 'D', 'A', 'A', 'A', 'D', 'A', 'A', 'A', 'D', 'A', 'A', 'D', 'A', 'A', 'D', 'A', 'A', 'A', 'A', 'A', 'A', 'A', 'A', 'D', 'D', 'D', 'A', 'D', 'D', 'D', 'A', 'A', 'D', 'A', 'D', 'D', 'A', 'A', 'D', 'D', 'A', 'A', 'A', 'D', 'A', 'A', 'A', 'A', 'D', 'D', 'D', 'D', 'D', 'D', 'A', 'A', 'D', 'A', 'A', 'A', 'D', 'A', 'D', 'A', 'A', 'D', 'A', 'D', 'A', 'A', 'D', 'A', 'A', 'A', 'D', 'D', 'A', 'D', 'A', 'A', 'A', 'A', 'A', 'D', 'D', 'A', 'D', 'D', 'D', 'A', 'D', 'A', 'A', 'D', 'D', 'A', 'A', 'A', 'A', 'A', 'D', 'A', 'D', 'D', 'D', 'D', 'A', 'A', 'D', 'A', 'A', 'D', 'A', 'A', 'A', 'D', 'D', 'A', 'A', 'D', 'D', 'A', 'D', 'D', 'D', 'A', 'A', 'D', 'D', 'D', 'A', 'A', 'A', 'D', 'D', 'A', 'A', 'D', 'D', 'D', 'D', 'A', 'D', 'A', 'D', 'D', 'A', 'A', 'A', 'D', 'D', 'A', 'A', 'A', 'D', 'A', 'D', 'A', 'A', 'D', 'D', 'A', 'A', 'D', 'A', 'D', 'A', 'D', 'D', 'A', 'A', 'D', 'A', 'A', 'A', 'A', 'A', 'D', 'D', 'D', 'A', 'D', 'D', 'A', 'D', 'A', 'D', 'A', 'D', 'D', 'A', 'D', 'D', 'A', 'A', 'A', 'A', 'D', 'D', 'D', 'A', 'A', 'A', 'D', 'D', 'A', 'A', 'A', 'D', 'D', 'D', 'A', 'A', 'D', 'D', 'D', 'D', 'A', 'A', 'D', 'D', 'A', 'D', 'D', 'A', 'D', 'D', 'D', 'D', 'D', 'A', 'D', 'A', 'A', 'A', 'A', 'D', 'D', 'D', 'A', 'A', 'D', 'A', 'D', 'D', 'D', 'A', 'A', 'D', 'D', 'D', 'A', 'D', 'A', 'A', 'A', 'D', 'D', 'D', 'D', 'A', 'A', 'A', 'A', 'A', 'D', 'D', 'D', 'D', 'A', 'D', 'D', 'A', 'D', 'D', 'D', 'A', 'D', 'D', 'A', 'A', 'D', 'D', 'D', 'D', 'A', 'A', 'D', 'A', 'D', 'A', 'D', 'A', 'A', 'D', 'A', 'D', 'A', 'A', 'D', 'D', 'A', 'A', 'A', 'D', 'D', 'D', 'A', 'A', 'A', 'A', 'A', 'D', 'A', 'A', 'A', 'A', 'A', 'A', 'A', 'A', 'A', 'A', 'D', 'D', 'A', 'D', 'A', 'A', 'D', 'A', 'A', 'A', 'D', 'A', 'A', 'A', 'D', 'A', 'A', 'A', 'D', 'D', 'A', 'A', 'A', 'A', 'D', 'A', 'A', 'D', 'D', 'D', 'D', 'A', 'D', 'D', 'A', 'D', 'D', 'A', 'D', 'A', 'A', 'D', 'A', 'D', 'A', 'D', 'D', 'A', 'A', 'A', 'D', 'D', 'D', 'A', 'A', 'D', 'D', 'A', 'D', 'A', 'D', 'D', 'A', 'D', 'A', 'D', 'A', 'D', 'D', 'A', 'A', 'D', 'D', 'D', 'A', 'A', 'A', 'D', 'A', 'D', 'A', 'D', 'D', 'D', 'A', 'D', 'A', 'A', 'A', 'D', 'A', 'A', 'A', 'D', 'D', 'D', 'D', 'D', 'A', 'D', 'A', 'D', 'A', 'D', 'D', 'A', 'D', 'D', 'A', 'D', 'D', 'A', 'D', 'D', 'D', 'D', 'A', 'A', 'D', 'A', 'A', 'A', 'A', 'A', 'D', 'A', 'A', 'A', 'A', 'D', 'A', 'A', 'D', 'D', 'A', 'A', 'D', 'A', 'D', 'D', 'A', 'A', 'A', 'A', 'A', 'D', 'A', 'D', 'A', 'A', 'A', 'D', 'A', 'D', 'A', 'A', 'A', 'A', 'D', 'D', 'D', 'D', 'D', 'D', 'A', 'D', 'D', 'A', 'D', 'A', 'A', 'A', 'A', 'D', 'A', 'D', 'A', 'D', 'D', 'A', 'A', 'D', 'A', 'A', 'D', 'A', 'D', 'D', 'D', 'A', 'D', 'D', 'A', 'D', 'D', 'A', 'D', 'D', 'D', 'D', 'A', 'A', 'D', 'D', 'A', 'D', 'A', 'A', 'D', 'A', 'D', 'A', 'A', 'A', 'D', 'D', 'A', 'A', 'A', 'A', 'A', 'D', 'D', 'D', 'D', 'A', 'D', 'A', 'A', 'A', 'A', 'D', 'D', 'A', 'A', 'D', 'A', 'D', 'A', 'A', 'D', 'A', 'A', 'D', 'A', 'D', 'A', 'A', 'A', 'A', 'A', 'A', 'D', 'A', 'D', 'A', 'D', 'A', 'D', 'A', 'A', 'A', 'A', 'D', 'A', 'D', 'D', 'A', 'D', 'A', 'A', 'A', 'A', 'D', 'D', 'A', 'D', 'D', 'D', 'D', 'D', 'A', 'A', 'A', 'D', 'A', 'A', 'A', 'A', 'A', 'D', 'D', 'A', 'A', 'A', 'D', 'A', 'D', 'D', 'A', 'A', 'D', 'A', 'A', 'A', 'D', 'D', 'A', 'D', 'D', 'D', 'D', 'A']\n",
      "0.533\n",
      "0.467\n"
     ]
    }
   ],
   "source": [
    "# Calculate the win probabilities for attackers and defenders based on the cumulative losses.\n",
    "def calculate_win_probabilities(wins):\n",
    "    num_rounds = len(wins)\n",
    "    attacker_wins_probs = wins.count(\"A\")\n",
    "    defender_wins_probs = wins.count(\"D\")\n",
    "    \n",
    "    attacker_win_prob = attacker_wins_probs / num_rounds\n",
    "    defender_win_prob = defender_wins_probs / num_rounds\n",
    "    \n",
    "    return attacker_win_prob, defender_win_prob\n",
    "\n",
    "# Simulate 1000 battle rounds\n",
    "wins = simulate_battle_rounds_second(1000)\n",
    "\n",
    "## Calculate win probabilities\n",
    "attacker_win_prob2, defender_win_prob2 = calculate_win_probabilities(wins)\n",
    "\n",
    "print(wins)\n",
    "print(attacker_win_prob2)\n",
    "print(defender_win_prob2)"
   ]
  }
 ],
 "metadata": {
  "kernelspec": {
   "display_name": "base",
   "language": "python",
   "name": "python3"
  },
  "language_info": {
   "codemirror_mode": {
    "name": "ipython",
    "version": 3
   },
   "file_extension": ".py",
   "mimetype": "text/x-python",
   "name": "python",
   "nbconvert_exporter": "python",
   "pygments_lexer": "ipython3",
   "version": "3.11.5"
  }
 },
 "nbformat": 4,
 "nbformat_minor": 2
}
