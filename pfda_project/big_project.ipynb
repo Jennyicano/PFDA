{
 "cells": [
  {
   "cell_type": "markdown",
   "metadata": {},
   "source": [
    "## Programming for Data Analytics Big Project\n",
    "\n",
    "*******************"
   ]
  },
  {
   "cell_type": "markdown",
   "metadata": {},
   "source": [
    "##### Author: Jennifer Ibanez Cano\n",
    "\n",
    "##### Module: PFDA, ATU course 24/25\n",
    "##### Lecture: Andrew Beatty \n",
    "\n",
    "*****************"
   ]
  },
  {
   "cell_type": "markdown",
   "metadata": {},
   "source": [
    "##### Description\n",
    "\n",
    "This notebook contains my work performing data analysis on data. "
   ]
  },
  {
   "cell_type": "markdown",
   "metadata": {},
   "source": []
  }
 ],
 "metadata": {
  "language_info": {
   "name": "python"
  }
 },
 "nbformat": 4,
 "nbformat_minor": 2
}
